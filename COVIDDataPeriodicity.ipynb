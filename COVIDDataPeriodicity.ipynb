{
 "cells": [
  {
   "cell_type": "code",
   "execution_count": null,
   "id": "1bccc012-b7fe-4cf1-9af3-328805bfea25",
   "metadata": {
    "jupyter": {
     "source_hidden": true
    },
    "tags": []
   },
   "outputs": [],
   "source": [
    "import pandas as pd\n",
    "import numpy as np\n",
    "import matplotlib.pyplot as plt\n",
    "\n",
    "from collections import Counter\n",
    "from ipywidgets import widgets\n",
    "from scipy.signal import find_peaks\n",
    "\n",
    "plt.rcParams['figure.figsize'] = (16, 12)\n",
    "\n",
    "params = {'legend.fontsize': 'x-large',\n",
    "          'figure.figsize': (16, 12),\n",
    "         'axes.labelsize': 'x-large',\n",
    "         'axes.titlesize':'x-large',\n",
    "         'xtick.labelsize':'x-large',\n",
    "         'ytick.labelsize':'x-large'}\n",
    "\n",
    "plt.rcParams.update(params)"
   ]
  },
  {
   "cell_type": "markdown",
   "id": "c0b066ae-afff-49f8-8376-152f7ead9965",
   "metadata": {},
   "source": [
    "## Periodicity in COVID-19 case data\n",
    "\n",
    "Eyeballing the world case data there is a fairly obvious periodicity somewhere around 60 days. This notebook explores that pattern a bit more. If you just want to explore the pattern, try `Run -> Run All Cells`, then jump to the [Autocorrelation section](#Autocorrelation) and start exploring the data for different countries.\n"
   ]
  },
  {
   "cell_type": "code",
   "execution_count": null,
   "id": "2a68524c-5b3f-447e-993f-65a7e06c34ba",
   "metadata": {},
   "outputs": [],
   "source": [
    "dataCSV = 'https://covid.ourworldindata.org/data/owid-covid-data.csv'\n",
    "#dataCSV = './owid-covid-data.csv.bz2'\n",
    "icDF = pd.read_csv(\n",
    "    dataCSV,\n",
    "    index_col='date',\n",
    "    parse_dates=['date']\n",
    ")\n",
    "\n",
    "cDF = icDF.copy()\n",
    "cDF.index = icDF.index - icDF.index.min()\n",
    "cDF.head()"
   ]
  },
  {
   "cell_type": "markdown",
   "id": "6e0b8530-2cf7-4fb2-9182-3fd2bbd88fe9",
   "metadata": {},
   "source": [
    "Starting with the world data, look at the `new_cases` vs time since first case for the entire world"
   ]
  },
  {
   "cell_type": "code",
   "execution_count": null,
   "id": "ea13f798-19e4-4225-bb20-cdeafb556360",
   "metadata": {
    "jupyter": {
     "source_hidden": true
    },
    "tags": []
   },
   "outputs": [],
   "source": [
    "wDF = cDF[cDF['location'] == 'World'].dropna(subset=['new_cases'])\n",
    "\n",
    "plt.plot(wDF.index.days, wDF.new_cases)\n",
    "plt.title('Daily New Cases - Worldwide')"
   ]
  },
  {
   "cell_type": "markdown",
   "id": "36739f30-ee47-4ec2-bfb8-fb40f8a6db13",
   "metadata": {},
   "source": [
    "There's a fairly easy to spot periodicity about 50-100 days in length. Let's take a fourier transform and see if it stands out (toss the first couple of entries because the data are reported ~daily."
   ]
  },
  {
   "cell_type": "code",
   "execution_count": null,
   "id": "8b7bc1ac-d57c-4ae4-b376-710d26406514",
   "metadata": {
    "jupyter": {
     "source_hidden": true
    },
    "tags": []
   },
   "outputs": [],
   "source": [
    "ps = np.square(np.abs(np.fft.rfft(wDF.new_cases)))\n",
    "d = np.arange((wDF.index.max() - wDF.index.min()).days / 2)\n",
    "plt.plot(d[2:], ps[-len(d[2:]):])"
   ]
  },
  {
   "cell_type": "markdown",
   "id": "6813645b-ff0c-4da4-b674-ada9299555a5",
   "metadata": {},
   "source": [
    "So there _is_ something there. Since the world data combines lots of reporting it's possible that this is just the data from one or two countries skewing the world data so let's start looking at individual locations. Try changing the dropdown below, here are some interesting countries to try:\n",
    "\n",
    "### Show the 60 day spike\n",
    "  * Brazil (wow!)\n",
    "  * France\n",
    "  * Germany (wow!)\n",
    "  * Italy\n",
    "  * Sweden (wow!)\n",
    "  * United States\n",
    "  * United Kingdom (a bit)\n",
    "  * ...\n",
    "  \n",
    "### Don't show the 60 day spike\n",
    "  * Canada\n",
    "  * India\n",
    "  * ...\n",
    "  "
   ]
  },
  {
   "cell_type": "code",
   "execution_count": null,
   "id": "c0419a4f-7e22-4cd5-ad73-1375da733c32",
   "metadata": {
    "jupyter": {
     "source_hidden": true
    },
    "tags": []
   },
   "outputs": [],
   "source": [
    "def powerSpectrumCases(country):\n",
    "    localDF = cDF[cDF['location'] == country].dropna(subset=['new_cases'])\n",
    "    if len(localDF.new_cases > 10):\n",
    "        ps = np.square(np.abs(np.fft.rfft(localDF.new_cases)))\n",
    "        d = np.arange((localDF.index.max() - localDF.index.min()).days / 2)\n",
    "        \n",
    "        fig, ax = plt.subplots(1)\n",
    "        ax.plot(d[2:], ps[-len(d[2:]):])\n",
    "        plt.show()\n",
    "\n",
    "a=widgets.interactive(\n",
    "    powerSpectrumCases,\n",
    "    country=widgets.Dropdown(\n",
    "        options=sorted(set(cDF.location)),\n",
    "        value = 'Sweden',\n",
    "        description='Country:',\n",
    "        disabled=False\n",
    "    )\n",
    ")\n",
    "display(a)"
   ]
  },
  {
   "cell_type": "markdown",
   "id": "2718a0af-4912-4669-9096-043fe3e88439",
   "metadata": {},
   "source": [
    "### Aggregating over countries\n",
    "\n",
    "We can use `find_peaks` to try to identify peak locations then look ad common values for those peaks."
   ]
  },
  {
   "cell_type": "code",
   "execution_count": null,
   "id": "fa3927ce-b0a5-484a-bb7b-17b1b7645ea3",
   "metadata": {
    "jupyter": {
     "source_hidden": true
    },
    "tags": []
   },
   "outputs": [],
   "source": [
    "peaks = []\n",
    "for country in set(cDF.location):\n",
    "    localDF = cDF[cDF['location'] == country].dropna(subset=['new_cases'])\n",
    "    if len(localDF.new_cases > 10):\n",
    "        ps = np.square(np.abs(np.fft.rfft(localDF.new_cases)))\n",
    "        d = np.arange((localDF.index.max() - localDF.index.min()).days / 2)\n",
    "        peaks.append(find_peaks(ps[2:], threshold=max(ps[2:]) * 0.01)[0])\n",
    "\n",
    "c = Counter(np.concatenate(peaks))\n",
    "plt.bar(*zip(*c.most_common()), width=.75, color='g')"
   ]
  },
  {
   "cell_type": "markdown",
   "id": "38d6e980-f830-4125-a546-fe5c029ac35c",
   "metadata": {},
   "source": [
    "It's still there!"
   ]
  },
  {
   "cell_type": "markdown",
   "id": "4659c294-39b0-4512-8c28-30229ab588c1",
   "metadata": {},
   "source": [
    "### Possible explainations\n",
    "\n",
    "* Is this just an artifact of huge case counts in a few countries? e.g. There is a **huge** spike at ~60 days in Brazil, but it's there in lots of other countries as well. If it was related to the restrictions shouldn't there me more variation (different countries taking different approaches)\n",
    "* Artifact of the data collection intervals?\n",
    "* Seasonal artifact?\n",
    "* Is is a coding or classification issue with the data?\n",
    "* Other/something a mistake above?"
   ]
  },
  {
   "cell_type": "code",
   "execution_count": null,
   "id": "104653fe-d76d-440f-91b4-b71e55419275",
   "metadata": {
    "jupyter": {
     "source_hidden": true
    },
    "tags": []
   },
   "outputs": [],
   "source": [
    "fig, ax = plt.subplots(5, figsize=(8,8))\n",
    "\n",
    "# Pick some countries for side-by-side display\n",
    "for index, country in enumerate(['World','Sweden', 'Germany', 'Brazil', 'Argentina']):\n",
    "    localDF = cDF[cDF['location'] == country].dropna(subset=['new_cases'])\n",
    "    if len(wDF.new_cases > 10):\n",
    "        ps = np.square(np.abs(np.fft.rfft(localDF.new_cases)))\n",
    "        d = np.arange((localDF.index.max() - localDF.index.min()).days / 2)\n",
    "        \n",
    "        ax[index].plot(d[2:], ps[-len(d[2:]):])\n",
    "        ax[index].set_title(country, fontsize=16)\n",
    "        ax[index].yaxis.set_ticklabels([])\n",
    "ax[index].set_xlabel('Days', fontsize=20)\n",
    "plt.tight_layout()\n",
    "plt.show()"
   ]
  },
  {
   "cell_type": "markdown",
   "id": "0652ceaf-97f3-4cfd-ac11-20e9a80bf61f",
   "metadata": {},
   "source": [
    "## Autocorrelation\n",
    "\n",
    "Looking for the same thing with autocorrelation. Specifically, we will calculate the daily change in new cases, then we will look for autocorrelation in the rolling average of this difference."
   ]
  },
  {
   "cell_type": "code",
   "execution_count": null,
   "id": "2f4120b1-5854-4c33-9623-1bfdd51d6ab7",
   "metadata": {
    "jupyter": {
     "source_hidden": true
    },
    "tags": []
   },
   "outputs": [],
   "source": [
    "class AutoCorrDisplay:\n",
    "    \n",
    "    def __init__(self, country='Canada', ndays=14):\n",
    "        self.country = country\n",
    "        self.ndays = ndays\n",
    "        self.output_widget = widgets.Output()\n",
    "        self.container = widgets.VBox()\n",
    "        self.redraw_whole_plot()\n",
    "        self.draw_app()\n",
    "        \n",
    "    def draw_app(self):\n",
    "        \"\"\"\n",
    "        Run once at startup to provide controls and canvas\n",
    "        \"\"\"\n",
    "        self.ndays_slider = widgets.HBox([\n",
    "                widgets.Label('Rolling avg. window (days):'),\n",
    "                widgets.IntSlider(\n",
    "                    min=1,\n",
    "                    max=60,\n",
    "                    step=1,\n",
    "                    value=self.ndays,\n",
    "                )\n",
    "        ], layout=widgets.Layout(margin=\"0 0 0 auto\"))\n",
    "        self.ndays_slider.children[-1].observe(self._on_ndays_slider_change, names='value')\n",
    "        self.country_dropdown = widgets.Dropdown(\n",
    "            options=sorted(set(icDF.location)),\n",
    "            value = self.country,\n",
    "            description='Country:',\n",
    "            disabled=False\n",
    "        )\n",
    "        self.country_dropdown.observe(self._on_country_dropdown_change, names='value')\n",
    "\n",
    "        self.container.children = [\n",
    "            widgets.HBox(\n",
    "                [self.country_dropdown, self.ndays_slider],\n",
    "                layout=widgets.Layout(padding='40px 0 25px 0')\n",
    "            ),\n",
    "            self.output_widget\n",
    "        ]\n",
    "        \n",
    "        \n",
    "    def _on_ndays_slider_change(self, change):\n",
    "        \"\"\"\n",
    "        Called whenever the rolling average window size changes.\n",
    "\n",
    "        Recompute rolling average and redraw the plot.\n",
    "        \"\"\"\n",
    "        self.ndays = change.new\n",
    "        self.redraw_whole_plot()\n",
    "\n",
    "    def _on_country_dropdown_change(self, change):\n",
    "        \"\"\"\n",
    "        Called whenever the country selector changes.\n",
    "\n",
    "        Pull data for selected country and redraw the plot.\n",
    "        \"\"\"\n",
    "        self.country = change.new\n",
    "        self.redraw_whole_plot()\n",
    "\n",
    "    def redraw_whole_plot(self):\n",
    "        \"\"\"\n",
    "        Redraw canvas\n",
    "        \"\"\"\n",
    "        out = self.output_widget\n",
    "        with out:\n",
    "            localDF = icDF[icDF['location'] == self.country].dropna(subset=['new_cases'])['new_cases']\n",
    "\n",
    "            fig, ax = plt.subplots(1)\n",
    "            out.clear_output(wait=True)\n",
    "            ax.set_xlim([0, 400])\n",
    "            ax.set_ylim([-1, 1])\n",
    "            ax.set_title(f\"{self.country} - new_cases change rolling avg. autocorrelation, {self.ndays} days\")\n",
    "\n",
    "            if len(localDF > 10):\n",
    "                pd.plotting.autocorrelation_plot(localDF.diff().rolling(self.ndays).mean()[self.ndays:], ax=ax)\n",
    "                \n",
    "            else:\n",
    "                ax.text(150, 0, \"Insufficient data\", fontsize=20)\n",
    "            plt.show()\n",
    "\n",
    "app = AutoCorrDisplay()\n",
    "app.container"
   ]
  }
 ],
 "metadata": {
  "kernelspec": {
   "display_name": "Python 3",
   "language": "python",
   "name": "python3"
  },
  "language_info": {
   "codemirror_mode": {
    "name": "ipython",
    "version": 3
   },
   "file_extension": ".py",
   "mimetype": "text/x-python",
   "name": "python",
   "nbconvert_exporter": "python",
   "pygments_lexer": "ipython3",
   "version": "3.9.2"
  }
 },
 "nbformat": 4,
 "nbformat_minor": 5
}
