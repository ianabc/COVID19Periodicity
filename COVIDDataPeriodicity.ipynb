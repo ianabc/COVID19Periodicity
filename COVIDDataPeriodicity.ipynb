{
 "cells": [
  {
   "cell_type": "code",
   "execution_count": null,
   "id": "iraqi-azerbaijan",
   "metadata": {
    "jupyter": {
     "source_hidden": true
    },
    "tags": []
   },
   "outputs": [],
   "source": [
    "import pandas as pd\n",
    "import numpy as np\n",
    "import matplotlib.pyplot as plt\n",
    "\n",
    "from collections import Counter\n",
    "from ipywidgets import widgets\n",
    "from scipy.signal import find_peaks\n",
    "\n",
    "params = {\n",
    "    'legend.fontsize' : 'x-large',\n",
    "    'figure.figsize'  : (16, 12),\n",
    "    'axes.labelsize'  : 'x-large',\n",
    "    'axes.titlesize'  : 'x-large',\n",
    "    'xtick.labelsize' : 'x-large',\n",
    "    'ytick.labelsize' : 'x-large'\n",
    "}\n",
    "\n",
    "plt.rcParams.update(params)"
   ]
  },
  {
   "cell_type": "markdown",
   "id": "latin-allah",
   "metadata": {},
   "source": [
    "## Periodicity in COVID-19 case data\n",
    "\n",
    "Eyeballing the case data for COVID-19 there are some fairly obvious periodicities and patterns which I'd like to explore in this notebook. Before we begin, select `Run -> Run All Cells` from the menu above, to initialize all of the cells. When this finishes you should see some plots and widgets appear below. The widgets combine interactive controls with output plots to let you explore a few different datasets. \n",
    "\n",
    "  1. [National level data (countries) widget](#National-Level-Case-Autocorrelation)\n",
    "  1. [Canada Provincial data widget](#Canada-Provincial-Case-Autocorrelation)\n",
    "\n",
    "The analysis consists of pulling in a live copy of the data, extracting the (daily) new case count, forming a difference (daily change), then looking at the autocorrelation of the resulting series. If you want to explore the analysis or change it, click on the \"three dots\" icons to expand code cells (or choose `View -> Expand all code` in the menu). The data are ingested from regularly updated public sources."
   ]
  },
  {
   "cell_type": "markdown",
   "id": "weird-disposal",
   "metadata": {},
   "source": [
    "## Raw Case Data\n",
    "\n",
    "Let's look at the raw data for new cases each day in the world to see the patterns I mentioned above. There's a lot going on in in the underlying data, but even so you should be able to see some periodicities."
   ]
  },
  {
   "cell_type": "code",
   "execution_count": null,
   "id": "hungry-philosophy",
   "metadata": {
    "jupyter": {
     "source_hidden": true
    },
    "tags": []
   },
   "outputs": [],
   "source": [
    "worldCSV = 'https://covid.ourworldindata.org/data/owid-covid-data.csv'\n",
    "worldDF = pd.read_csv(\n",
    "    worldCSV,\n",
    "    index_col='date',\n",
    "    parse_dates=['date']\n",
    ")"
   ]
  },
  {
   "cell_type": "code",
   "execution_count": null,
   "id": "other-annotation",
   "metadata": {
    "jupyter": {
     "source_hidden": true
    }
   },
   "outputs": [],
   "source": [
    "class CasesDisplay:\n",
    "    \n",
    "    def __init__(self, df, location='World'):\n",
    "        \"\"\"\n",
    "        df: a pandas dataframe with a datetime index and columns for \n",
    "        location and new_cases.\n",
    "        \n",
    "        ## TODO: Assumes daily data, resample if not\n",
    "        \"\"\"\n",
    "        self.df = df\n",
    "        self.location = location\n",
    "        self.output_widget = widgets.Output()\n",
    "        self.container = widgets.VBox()\n",
    "        self.redraw_whole_plot()\n",
    "        self.draw_app()\n",
    "        \n",
    "    def draw_app(self):\n",
    "        \"\"\"\n",
    "        Run once at startup to provide controls and canvas\n",
    "        \"\"\"\n",
    "        self.location_dropdown = widgets.Dropdown(\n",
    "            options=sorted(set(self.df.location)),\n",
    "            value = self.location,\n",
    "            description='Location:',\n",
    "            disabled=False\n",
    "        )\n",
    "        self.location_dropdown.observe(self._on_location_dropdown_change, names='value')\n",
    "\n",
    "        self.container.children = [\n",
    "            widgets.HBox(\n",
    "                [self.location_dropdown],\n",
    "                layout=widgets.Layout(padding='40px 0 25px 0')\n",
    "            ),\n",
    "            self.output_widget\n",
    "        ]\n",
    "        \n",
    "        \n",
    "    def _on_location_dropdown_change(self, change):\n",
    "        \"\"\"\n",
    "        Called whenever the country selector changes.\n",
    "\n",
    "        Pull data for selected country and redraw the plot.\n",
    "        \"\"\"\n",
    "        self.location = change.new\n",
    "        self.redraw_whole_plot()\n",
    "\n",
    "    def redraw_whole_plot(self):\n",
    "        \"\"\"\n",
    "        Redraw canvas\n",
    "        \"\"\"\n",
    "        out = self.output_widget\n",
    "        with out:\n",
    "            localDF = self.df[self.df['location'] == self.location].dropna(subset=['new_cases'])['new_cases']\n",
    "\n",
    "            fig, ax = plt.subplots(1)\n",
    "            out.clear_output(wait=True)\n",
    "            ax.set_ylabel('Cases')\n",
    "            ax.set_xlabel('Date')\n",
    "            ax.set_title(f\"{self.location} - new_cases\")\n",
    "\n",
    "            ax.plot(localDF, linewidth=3)\n",
    "            plt.show()"
   ]
  },
  {
   "cell_type": "code",
   "execution_count": null,
   "id": "adult-credit",
   "metadata": {
    "jupyter": {
     "source_hidden": true
    },
    "tags": []
   },
   "outputs": [],
   "source": [
    "worldcasesApp = CasesDisplay(worldDF)\n",
    "worldcasesApp.container"
   ]
  },
  {
   "cell_type": "markdown",
   "id": "latter-progressive",
   "metadata": {},
   "source": [
    "We want to dig a bit deeper on those wiggles. First let's look at national level data"
   ]
  },
  {
   "cell_type": "code",
   "execution_count": null,
   "id": "liberal-singer",
   "metadata": {
    "jupyter": {
     "source_hidden": true
    },
    "tags": []
   },
   "outputs": [],
   "source": [
    "class AutoCorrDisplay:\n",
    "    \n",
    "    def __init__(self, df, location='Canada', ndays=14):\n",
    "        \"\"\"\n",
    "        df: a pandas dataframe with a datetime index and columns for \n",
    "        location and new_cases.\n",
    "        \n",
    "        ## TODO: Assumes daily data, resample if not\n",
    "        \"\"\"\n",
    "        self.df = df\n",
    "        self.location = location\n",
    "        self.ndays = ndays\n",
    "        self.output_widget = widgets.Output()\n",
    "        self.container = widgets.VBox()\n",
    "        self.redraw_whole_plot()\n",
    "        self.draw_app()\n",
    "        \n",
    "    def draw_app(self):\n",
    "        \"\"\"\n",
    "        Run once at startup to provide controls and canvas\n",
    "        \"\"\"\n",
    "        self.ndays_slider = widgets.HBox([\n",
    "                widgets.Label('Rolling avg. window (days):'),\n",
    "                widgets.IntSlider(\n",
    "                    min=1,\n",
    "                    max=60,\n",
    "                    step=1,\n",
    "                    value=self.ndays,\n",
    "                )\n",
    "        ], layout=widgets.Layout(margin=\"0 0 0 auto\"))\n",
    "        self.ndays_slider.children[-1].observe(self._on_ndays_slider_change, names='value')\n",
    "        self.location_dropdown = widgets.Dropdown(\n",
    "            options=sorted(set(self.df.location)),\n",
    "            value = self.location,\n",
    "            description='Location:',\n",
    "            disabled=False\n",
    "        )\n",
    "        self.location_dropdown.observe(self._on_location_dropdown_change, names='value')\n",
    "\n",
    "        self.container.children = [\n",
    "            widgets.HBox(\n",
    "                [self.location_dropdown, self.ndays_slider],\n",
    "                layout=widgets.Layout(padding='40px 0 25px 0')\n",
    "            ),\n",
    "            self.output_widget\n",
    "        ]\n",
    "        \n",
    "        \n",
    "    def _on_ndays_slider_change(self, change):\n",
    "        \"\"\"\n",
    "        Called whenever the rolling average window size changes.\n",
    "\n",
    "        Recompute rolling average and redraw the plot.\n",
    "        \"\"\"\n",
    "        self.ndays = change.new\n",
    "        self.redraw_whole_plot()\n",
    "\n",
    "    def _on_location_dropdown_change(self, change):\n",
    "        \"\"\"\n",
    "        Called whenever the country selector changes.\n",
    "\n",
    "        Pull data for selected country and redraw the plot.\n",
    "        \"\"\"\n",
    "        self.location = change.new\n",
    "        self.redraw_whole_plot()\n",
    "\n",
    "    def redraw_whole_plot(self):\n",
    "        \"\"\"\n",
    "        Redraw canvas\n",
    "        \"\"\"\n",
    "        out = self.output_widget\n",
    "        with out:\n",
    "            localDF = self.df[self.df['location'] == self.location].dropna(subset=['new_cases'])['new_cases']\n",
    "\n",
    "            fig, ax = plt.subplots(1)\n",
    "            out.clear_output(wait=True)\n",
    "            ax.set_xlim([0, 400])\n",
    "            ax.set_ylim([-1, 1])\n",
    "            ax.set_ylabel('Autocorrelation')\n",
    "            ax.set_xlabel('Lag')\n",
    "            ax.set_title(f\"{self.location} - new_cases change rolling avg. autocorrelation, {self.ndays} days\")\n",
    "\n",
    "            if len(localDF > 10):\n",
    "                pd.plotting.autocorrelation_plot(\n",
    "                    localDF.diff().rolling(self.ndays).mean()[self.ndays:], \n",
    "                    ax=ax, \n",
    "                    linewidth=3\n",
    "                )\n",
    "            else:\n",
    "                ax.text(165, 0, \"Insufficient data\", fontsize=20)\n",
    "                ax.grid(b=True)\n",
    "            plt.show()\n",
    "\n",
    "#app = AutoCorrDisplay()\n",
    "#app.container"
   ]
  },
  {
   "cell_type": "markdown",
   "id": "exciting-clarity",
   "metadata": {},
   "source": [
    "## National Level Case Autocorrelation\n",
    "\n",
    "This widget uses data from [our world in data](https://covid.ourworldindata.org). Use the dropdown to select specific locations and the slider to control the length of the rolling average."
   ]
  },
  {
   "cell_type": "code",
   "execution_count": null,
   "id": "solid-government",
   "metadata": {
    "jupyter": {
     "source_hidden": true
    },
    "tags": []
   },
   "outputs": [],
   "source": [
    "worldApp = AutoCorrDisplay(worldDF)\n",
    "worldApp.container"
   ]
  },
  {
   "cell_type": "markdown",
   "id": "separate-foster",
   "metadata": {},
   "source": [
    "## Canada Provincial Case Autocorrelation\n",
    "\n",
    "This widget uses data from Canada's [Health Infobase](https://health-infobase.canada.ca). Use the dropdown to select specific provinces and the slider to control the length of the rolling average window."
   ]
  },
  {
   "cell_type": "code",
   "execution_count": null,
   "id": "viral-syracuse",
   "metadata": {
    "jupyter": {
     "source_hidden": true
    },
    "tags": []
   },
   "outputs": [],
   "source": [
    "canadaCSV = 'https://health-infobase.canada.ca/src/data/covidLive/covid19-download.csv'\n",
    "canadaDF = pd.read_csv(\n",
    "    canadaCSV,\n",
    "    index_col='date',\n",
    "    parse_dates=['date']\n",
    ")\n",
    "canadaDF.rename(columns={\n",
    "    'numtoday' : 'new_cases',\n",
    "    'prname' : 'location'\n",
    "}, inplace=True)\n",
    "canadaApp = AutoCorrDisplay(canadaDF)\n",
    "canadaApp.container"
   ]
  },
  {
   "cell_type": "markdown",
   "id": "sharing-avatar",
   "metadata": {},
   "source": [
    "The peaks beyond the dashed lines should represent periodicities in the data, so by combining that with new case counts it should be possible to predict times of peak infection."
   ]
  },
  {
   "cell_type": "code",
   "execution_count": null,
   "id": "charming-alaska",
   "metadata": {
    "jupyter": {
     "source_hidden": true
    }
   },
   "outputs": [],
   "source": [
    "canadaCasesApp = CasesDisplay(canadaDF, location='Canada')\n",
    "canadaCasesApp.container"
   ]
  },
  {
   "cell_type": "markdown",
   "id": "responsible-criminal",
   "metadata": {},
   "source": [
    "### Possible explainations\n",
    "\n",
    "* An artifact of huge case counts in a few countries?\n",
    "* Artifact of the data collection intervals?\n",
    "* Seasonal artifacts?\n",
    "* Related to public health intervention times?\n",
    "* Is is a coding or classification issue with the data?\n",
    "* Other/something a mistake above?\n",
    "\n"
   ]
  }
 ],
 "metadata": {
  "kernelspec": {
   "display_name": "Python 3",
   "language": "python",
   "name": "python3"
  },
  "language_info": {
   "codemirror_mode": {
    "name": "ipython",
    "version": 3
   },
   "file_extension": ".py",
   "mimetype": "text/x-python",
   "name": "python",
   "nbconvert_exporter": "python",
   "pygments_lexer": "ipython3",
   "version": "3.7.10"
  }
 },
 "nbformat": 4,
 "nbformat_minor": 5
}
